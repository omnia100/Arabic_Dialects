{
  "nbformat": 4,
  "nbformat_minor": 0,
  "metadata": {
    "colab": {
      "name": "Model Training.ipynb",
      "provenance": []
    },
    "kernelspec": {
      "name": "python3",
      "display_name": "Python 3"
    },
    "language_info": {
      "name": "python"
    }
  },
  "cells": [
    {
      "cell_type": "code",
      "source": [
        "import codecs\n",
        "import pandas as pd\n",
        "import re\n",
        "import string\n",
        "from sklearn.model_selection import train_test_split\n",
        "from sklearn import preprocessing\n",
        "from sklearn.feature_extraction.text import CountVectorizer\n",
        "from sklearn.feature_extraction.text import TfidfVectorizer\n",
        "from sklearn.linear_model import SGDClassifier\n"
      ],
      "metadata": {
        "id": "puOzoNP-enjw"
      },
      "execution_count": 75,
      "outputs": []
    },
    {
      "cell_type": "code",
      "execution_count": 76,
      "metadata": {
        "colab": {
          "base_uri": "https://localhost:8080/"
        },
        "id": "i8T5qWMlbEVS",
        "outputId": "40911c66-bdeb-451e-d7c7-1c88bdcc6c0d"
      },
      "outputs": [
        {
          "output_type": "stream",
          "name": "stdout",
          "text": [
            "Downloading...\n",
            "From: https://drive.google.com/uc?id=1-4vFs-oT5rL1j9U3BURq2NIfkvN8mgPS\n",
            "To: /content/df_clean.json\n",
            "100% 81.5M/81.5M [00:00<00:00, 232MB/s]\n"
          ]
        }
      ],
      "source": [
        "!gdown --id 1-4vFs-oT5rL1j9U3BURq2NIfkvN8mgPS"
      ]
    },
    {
      "cell_type": "code",
      "source": [
        "df = pd.read_json(codecs.open('df_clean.json', 'r', 'utf-8'))"
      ],
      "metadata": {
        "id": "bCbAX6H3gLsW"
      },
      "execution_count": 77,
      "outputs": []
    },
    {
      "cell_type": "markdown",
      "source": [
        "# Label Encoding"
      ],
      "metadata": {
        "id": "ER-TP8vY0Q7q"
      }
    },
    {
      "cell_type": "code",
      "source": [
        "df.groupby('dialect').nunique().T"
      ],
      "metadata": {
        "colab": {
          "base_uri": "https://localhost:8080/",
          "height": 112
        },
        "id": "5RUhrlTp4agI",
        "outputId": "9f2807c4-df58-44d3-c76a-66b326ee32cf"
      },
      "execution_count": 78,
      "outputs": [
        {
          "output_type": "execute_result",
          "data": {
            "text/plain": [
              "dialect     AE     BH     DZ     EG     IQ     JO     KW     LB     LY     MA  \\\n",
              "id       26296  26292  16183  57636  15497  27921  42109  27617  36499  11539   \n",
              "text     26274  26263  16164  57533  15488  27887  42084  27584  36460  11527   \n",
              "\n",
              "dialect     OM     PL     QA     SA     SD     SY    TN    YE  \n",
              "id       19116  43742  31069  26832  14434  16242  9246  9927  \n",
              "text     19079  43702  31037  26748  14409  16217  9238  9912  "
            ],
            "text/html": [
              "\n",
              "  <div id=\"df-f877ed62-a3b0-4227-8c6c-06c76aab17e3\">\n",
              "    <div class=\"colab-df-container\">\n",
              "      <div>\n",
              "<style scoped>\n",
              "    .dataframe tbody tr th:only-of-type {\n",
              "        vertical-align: middle;\n",
              "    }\n",
              "\n",
              "    .dataframe tbody tr th {\n",
              "        vertical-align: top;\n",
              "    }\n",
              "\n",
              "    .dataframe thead th {\n",
              "        text-align: right;\n",
              "    }\n",
              "</style>\n",
              "<table border=\"1\" class=\"dataframe\">\n",
              "  <thead>\n",
              "    <tr style=\"text-align: right;\">\n",
              "      <th>dialect</th>\n",
              "      <th>AE</th>\n",
              "      <th>BH</th>\n",
              "      <th>DZ</th>\n",
              "      <th>EG</th>\n",
              "      <th>IQ</th>\n",
              "      <th>JO</th>\n",
              "      <th>KW</th>\n",
              "      <th>LB</th>\n",
              "      <th>LY</th>\n",
              "      <th>MA</th>\n",
              "      <th>OM</th>\n",
              "      <th>PL</th>\n",
              "      <th>QA</th>\n",
              "      <th>SA</th>\n",
              "      <th>SD</th>\n",
              "      <th>SY</th>\n",
              "      <th>TN</th>\n",
              "      <th>YE</th>\n",
              "    </tr>\n",
              "  </thead>\n",
              "  <tbody>\n",
              "    <tr>\n",
              "      <th>id</th>\n",
              "      <td>26296</td>\n",
              "      <td>26292</td>\n",
              "      <td>16183</td>\n",
              "      <td>57636</td>\n",
              "      <td>15497</td>\n",
              "      <td>27921</td>\n",
              "      <td>42109</td>\n",
              "      <td>27617</td>\n",
              "      <td>36499</td>\n",
              "      <td>11539</td>\n",
              "      <td>19116</td>\n",
              "      <td>43742</td>\n",
              "      <td>31069</td>\n",
              "      <td>26832</td>\n",
              "      <td>14434</td>\n",
              "      <td>16242</td>\n",
              "      <td>9246</td>\n",
              "      <td>9927</td>\n",
              "    </tr>\n",
              "    <tr>\n",
              "      <th>text</th>\n",
              "      <td>26274</td>\n",
              "      <td>26263</td>\n",
              "      <td>16164</td>\n",
              "      <td>57533</td>\n",
              "      <td>15488</td>\n",
              "      <td>27887</td>\n",
              "      <td>42084</td>\n",
              "      <td>27584</td>\n",
              "      <td>36460</td>\n",
              "      <td>11527</td>\n",
              "      <td>19079</td>\n",
              "      <td>43702</td>\n",
              "      <td>31037</td>\n",
              "      <td>26748</td>\n",
              "      <td>14409</td>\n",
              "      <td>16217</td>\n",
              "      <td>9238</td>\n",
              "      <td>9912</td>\n",
              "    </tr>\n",
              "  </tbody>\n",
              "</table>\n",
              "</div>\n",
              "      <button class=\"colab-df-convert\" onclick=\"convertToInteractive('df-f877ed62-a3b0-4227-8c6c-06c76aab17e3')\"\n",
              "              title=\"Convert this dataframe to an interactive table.\"\n",
              "              style=\"display:none;\">\n",
              "        \n",
              "  <svg xmlns=\"http://www.w3.org/2000/svg\" height=\"24px\"viewBox=\"0 0 24 24\"\n",
              "       width=\"24px\">\n",
              "    <path d=\"M0 0h24v24H0V0z\" fill=\"none\"/>\n",
              "    <path d=\"M18.56 5.44l.94 2.06.94-2.06 2.06-.94-2.06-.94-.94-2.06-.94 2.06-2.06.94zm-11 1L8.5 8.5l.94-2.06 2.06-.94-2.06-.94L8.5 2.5l-.94 2.06-2.06.94zm10 10l.94 2.06.94-2.06 2.06-.94-2.06-.94-.94-2.06-.94 2.06-2.06.94z\"/><path d=\"M17.41 7.96l-1.37-1.37c-.4-.4-.92-.59-1.43-.59-.52 0-1.04.2-1.43.59L10.3 9.45l-7.72 7.72c-.78.78-.78 2.05 0 2.83L4 21.41c.39.39.9.59 1.41.59.51 0 1.02-.2 1.41-.59l7.78-7.78 2.81-2.81c.8-.78.8-2.07 0-2.86zM5.41 20L4 18.59l7.72-7.72 1.47 1.35L5.41 20z\"/>\n",
              "  </svg>\n",
              "      </button>\n",
              "      \n",
              "  <style>\n",
              "    .colab-df-container {\n",
              "      display:flex;\n",
              "      flex-wrap:wrap;\n",
              "      gap: 12px;\n",
              "    }\n",
              "\n",
              "    .colab-df-convert {\n",
              "      background-color: #E8F0FE;\n",
              "      border: none;\n",
              "      border-radius: 50%;\n",
              "      cursor: pointer;\n",
              "      display: none;\n",
              "      fill: #1967D2;\n",
              "      height: 32px;\n",
              "      padding: 0 0 0 0;\n",
              "      width: 32px;\n",
              "    }\n",
              "\n",
              "    .colab-df-convert:hover {\n",
              "      background-color: #E2EBFA;\n",
              "      box-shadow: 0px 1px 2px rgba(60, 64, 67, 0.3), 0px 1px 3px 1px rgba(60, 64, 67, 0.15);\n",
              "      fill: #174EA6;\n",
              "    }\n",
              "\n",
              "    [theme=dark] .colab-df-convert {\n",
              "      background-color: #3B4455;\n",
              "      fill: #D2E3FC;\n",
              "    }\n",
              "\n",
              "    [theme=dark] .colab-df-convert:hover {\n",
              "      background-color: #434B5C;\n",
              "      box-shadow: 0px 1px 3px 1px rgba(0, 0, 0, 0.15);\n",
              "      filter: drop-shadow(0px 1px 2px rgba(0, 0, 0, 0.3));\n",
              "      fill: #FFFFFF;\n",
              "    }\n",
              "  </style>\n",
              "\n",
              "      <script>\n",
              "        const buttonEl =\n",
              "          document.querySelector('#df-f877ed62-a3b0-4227-8c6c-06c76aab17e3 button.colab-df-convert');\n",
              "        buttonEl.style.display =\n",
              "          google.colab.kernel.accessAllowed ? 'block' : 'none';\n",
              "\n",
              "        async function convertToInteractive(key) {\n",
              "          const element = document.querySelector('#df-f877ed62-a3b0-4227-8c6c-06c76aab17e3');\n",
              "          const dataTable =\n",
              "            await google.colab.kernel.invokeFunction('convertToInteractive',\n",
              "                                                     [key], {});\n",
              "          if (!dataTable) return;\n",
              "\n",
              "          const docLinkHtml = 'Like what you see? Visit the ' +\n",
              "            '<a target=\"_blank\" href=https://colab.research.google.com/notebooks/data_table.ipynb>data table notebook</a>'\n",
              "            + ' to learn more about interactive tables.';\n",
              "          element.innerHTML = '';\n",
              "          dataTable['output_type'] = 'display_data';\n",
              "          await google.colab.output.renderOutput(dataTable, element);\n",
              "          const docLink = document.createElement('div');\n",
              "          docLink.innerHTML = docLinkHtml;\n",
              "          element.appendChild(docLink);\n",
              "        }\n",
              "      </script>\n",
              "    </div>\n",
              "  </div>\n",
              "  "
            ]
          },
          "metadata": {},
          "execution_count": 78
        }
      ]
    },
    {
      "cell_type": "code",
      "source": [
        "le = preprocessing.LabelEncoder()\n",
        "le.fit(df.dialect)\n",
        "df['target'] = le.transform(df.dialect)"
      ],
      "metadata": {
        "id": "5hWRU1wBunm_"
      },
      "execution_count": 79,
      "outputs": []
    },
    {
      "cell_type": "code",
      "source": [
        "le_name_mapping = dict(zip(le.transform(le.classes_),le.classes_))\n",
        "print(le_name_mapping)"
      ],
      "metadata": {
        "id": "vOioeUaD0PGW",
        "colab": {
          "base_uri": "https://localhost:8080/"
        },
        "outputId": "0320f36a-0dd7-49c7-c7aa-e2d4b43763ff"
      },
      "execution_count": 80,
      "outputs": [
        {
          "output_type": "stream",
          "name": "stdout",
          "text": [
            "{0: 'AE', 1: 'BH', 2: 'DZ', 3: 'EG', 4: 'IQ', 5: 'JO', 6: 'KW', 7: 'LB', 8: 'LY', 9: 'MA', 10: 'OM', 11: 'PL', 12: 'QA', 13: 'SA', 14: 'SD', 15: 'SY', 16: 'TN', 17: 'YE'}\n"
          ]
        }
      ]
    },
    {
      "cell_type": "markdown",
      "source": [
        "# Split"
      ],
      "metadata": {
        "id": "-dIJ9ZDPDyCu"
      }
    },
    {
      "cell_type": "code",
      "source": [
        "train, test = train_test_split(df[['text','target']], test_size=0.33, random_state=42, stratify=df['target'])"
      ],
      "metadata": {
        "id": "-laQ08DnxMAM"
      },
      "execution_count": 81,
      "outputs": []
    },
    {
      "cell_type": "markdown",
      "source": [
        "# TF-IDf"
      ],
      "metadata": {
        "id": "5OBkB_PblMeS"
      }
    },
    {
      "cell_type": "code",
      "source": [
        "tfidf = TfidfVectorizer(\n",
        "    # tokenizer= dummy,\n",
        "    # preprocessor=dummy,\n",
        "    stop_words=['و'], \n",
        "    ngram_range=(1,2), \n",
        "    lowercase=False, \n",
        "    max_df = 0.3, \n",
        "    min_df= .0001, \n",
        "    # max_features = 2000\n",
        "    )"
      ],
      "metadata": {
        "id": "Fvk44BU9lWCa"
      },
      "execution_count": 95,
      "outputs": []
    },
    {
      "cell_type": "code",
      "source": [
        "tfidf.fit(train.text)"
      ],
      "metadata": {
        "colab": {
          "base_uri": "https://localhost:8080/"
        },
        "id": "CDzLvdBzlsRv",
        "outputId": "b24df0d0-9c8d-4f0e-fdc7-af6a5295be43"
      },
      "execution_count": 96,
      "outputs": [
        {
          "output_type": "execute_result",
          "data": {
            "text/plain": [
              "TfidfVectorizer(lowercase=False, max_df=0.3, min_df=0.0001, ngram_range=(1, 2),\n",
              "                stop_words=['و'])"
            ]
          },
          "metadata": {},
          "execution_count": 96
        }
      ]
    },
    {
      "cell_type": "code",
      "source": [
        "X_train = tfidf.transform(train.text)"
      ],
      "metadata": {
        "id": "_HruT69NP_Ju"
      },
      "execution_count": 97,
      "outputs": []
    },
    {
      "cell_type": "code",
      "source": [
        "X_train.shape"
      ],
      "metadata": {
        "colab": {
          "base_uri": "https://localhost:8080/"
        },
        "id": "bY0SsiuGRAvZ",
        "outputId": "bc3d732d-4dda-4df6-8745-fa93a05aece6"
      },
      "execution_count": 98,
      "outputs": [
        {
          "output_type": "execute_result",
          "data": {
            "text/plain": [
              "(306991, 17724)"
            ]
          },
          "metadata": {},
          "execution_count": 98
        }
      ]
    },
    {
      "cell_type": "code",
      "source": [
        "tfidf.get_feature_names()"
      ],
      "metadata": {
        "id": "AXKLUBy9P7xQ"
      },
      "execution_count": null,
      "outputs": []
    },
    {
      "cell_type": "code",
      "source": [
        ""
      ],
      "metadata": {
        "id": "jC_9LaWmcljA"
      },
      "execution_count": null,
      "outputs": []
    },
    {
      "cell_type": "markdown",
      "source": [
        "# Model"
      ],
      "metadata": {
        "id": "6ocla6ZpEGQs"
      }
    },
    {
      "cell_type": "code",
      "source": [
        "sgd =  SGDClassifier()\n",
        "sgd.fit(X_train, train.target)"
      ],
      "metadata": {
        "colab": {
          "base_uri": "https://localhost:8080/"
        },
        "id": "WK3XG00vVurR",
        "outputId": "0412333f-09f2-4f23-8864-c987fff4b37f"
      },
      "execution_count": 100,
      "outputs": [
        {
          "output_type": "execute_result",
          "data": {
            "text/plain": [
              "SGDClassifier()"
            ]
          },
          "metadata": {},
          "execution_count": 100
        }
      ]
    },
    {
      "cell_type": "code",
      "source": [
        "X_test = tfidf.transform(test.text)"
      ],
      "metadata": {
        "id": "7Yr5xwDWWeib"
      },
      "execution_count": 101,
      "outputs": []
    },
    {
      "cell_type": "markdown",
      "source": [
        "# Evaluation"
      ],
      "metadata": {
        "id": "UXCdWVe1Egwp"
      }
    },
    {
      "cell_type": "code",
      "source": [
        "y_pred = sgd.predict(X_test)"
      ],
      "metadata": {
        "id": "QgKMZNrdWRT1"
      },
      "execution_count": 102,
      "outputs": []
    },
    {
      "cell_type": "code",
      "source": [
        "from sklearn import metrics\n",
        "print(metrics.classification_report(test.target, y_pred, target_names=le.classes_))"
      ],
      "metadata": {
        "colab": {
          "base_uri": "https://localhost:8080/"
        },
        "id": "yl33_N70iyX2",
        "outputId": "24f5d58b-e041-431a-e4bd-f627ed5eaaf2"
      },
      "execution_count": 103,
      "outputs": [
        {
          "output_type": "stream",
          "name": "stdout",
          "text": [
            "              precision    recall  f1-score   support\n",
            "\n",
            "          AE       0.39      0.30      0.34      8678\n",
            "          BH       0.24      0.17      0.20      8676\n",
            "          DZ       0.45      0.37      0.41      5340\n",
            "          EG       0.53      0.88      0.66     19020\n",
            "          IQ       0.49      0.50      0.50      5114\n",
            "          JO       0.31      0.17      0.22      9214\n",
            "          KW       0.43      0.50      0.46     13896\n",
            "          LB       0.47      0.66      0.55      9114\n",
            "          LY       0.51      0.61      0.55     12045\n",
            "          MA       0.51      0.54      0.53      3808\n",
            "          OM       0.31      0.23      0.27      6308\n",
            "          PL       0.43      0.39      0.41     14435\n",
            "          QA       0.43      0.38      0.40     10253\n",
            "          SA       0.33      0.28      0.31      8855\n",
            "          SD       0.50      0.36      0.42      4763\n",
            "          SY       0.29      0.14      0.19      5360\n",
            "          TN       0.46      0.30      0.36      3051\n",
            "          YE       0.16      0.13      0.14      3276\n",
            "\n",
            "    accuracy                           0.44    151206\n",
            "   macro avg       0.40      0.38      0.38    151206\n",
            "weighted avg       0.42      0.44      0.42    151206\n",
            "\n"
          ]
        }
      ]
    },
    {
      "cell_type": "markdown",
      "source": [
        "# Save model and copy to drive"
      ],
      "metadata": {
        "id": "U0kAHQN0ddSq"
      }
    },
    {
      "cell_type": "code",
      "source": [
        "import joblib\n",
        "joblib.dump(sgd, \"ML.pkl\")\n",
        "joblib.dump(tfidf, \"tfidf.pkl\")\n",
        "\n",
        "# joblib.dump(sgd, \"DL.pkl\")"
      ],
      "metadata": {
        "id": "y_xNr-zsbidf",
        "colab": {
          "base_uri": "https://localhost:8080/"
        },
        "outputId": "f1d8fdc8-5e15-4ab9-883d-8e612c2c4c5d"
      },
      "execution_count": 104,
      "outputs": [
        {
          "output_type": "execute_result",
          "data": {
            "text/plain": [
              "['tfidf.pkl']"
            ]
          },
          "metadata": {},
          "execution_count": 104
        }
      ]
    },
    {
      "cell_type": "code",
      "source": [
        "from google.colab import drive\n",
        "drive.mount('/content/drive')"
      ],
      "metadata": {
        "id": "Yr3Bj6sF_LRV",
        "colab": {
          "base_uri": "https://localhost:8080/"
        },
        "outputId": "0acfa823-a6cd-497f-c5df-df445923d48d"
      },
      "execution_count": 105,
      "outputs": [
        {
          "output_type": "stream",
          "name": "stdout",
          "text": [
            "Drive already mounted at /content/drive; to attempt to forcibly remount, call drive.mount(\"/content/drive\", force_remount=True).\n"
          ]
        }
      ]
    },
    {
      "cell_type": "code",
      "source": [
        "!cp ML.pkl /content/drive/MyDrive"
      ],
      "metadata": {
        "id": "BYn-YU9ECJG_"
      },
      "execution_count": 106,
      "outputs": []
    },
    {
      "cell_type": "code",
      "source": [
        "!cp tfidf.pkl /content/drive/MyDrive"
      ],
      "metadata": {
        "id": "NbHWTsB_diWF"
      },
      "execution_count": 107,
      "outputs": []
    },
    {
      "cell_type": "code",
      "source": [
        ""
      ],
      "metadata": {
        "id": "-9td8mSjAyjz"
      },
      "execution_count": 94,
      "outputs": []
    }
  ]
}